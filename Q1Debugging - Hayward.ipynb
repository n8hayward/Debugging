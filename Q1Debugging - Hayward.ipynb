{
 "cells": [
  {
   "cell_type": "code",
   "execution_count": 55,
   "id": "ba5a4e8d-82cf-4495-88ab-9e099757412d",
   "metadata": {},
   "outputs": [
    {
     "name": "stdout",
     "output_type": "stream",
     "text": [
      "We are making an error in the loop. The current output for this element is 15. The correct answer for this element is supposed to be: 4\n",
      "We are making an error in the loop. The current output for this element is 18. The correct answer for this element is supposed to be: 5\n",
      "We are making an error in the loop. The current output for this element is 21. The correct answer for this element is supposed to be: 9\n",
      "1A: There is an error in the loop. The incorrect output returned for arg1 is [15, 18, 21]. Please fix the code and re-run.\n"
     ]
    }
   ],
   "source": [
    "def wrong_add_function(arg1,arg2):\n",
    "    \n",
    "   arg1_index=0\n",
    "   while arg1_index < len(arg1):\n",
    "      arg_2_sum = 0\n",
    "      for arg2_elements in arg2:\n",
    "         arg_2_sum = sum([arg1[arg1_index]+i for i in arg2])\n",
    "\n",
    "      print(f\"We are making an error in the loop. The current output for this element is {arg_2_sum}. The correct answer for this element is supposed to be: {arg1[arg1_index]+ arg2[arg1_index]}\")\n",
    "      \n",
    "      arg1[arg1_index]=arg_2_sum  \n",
    "      arg1_index+=1\n",
    "   return arg1\n",
    "\n",
    "arg1 = [1,2,3]\n",
    "arg2 = [3,3,6]\n",
    "\n",
    "wrong_add_function(arg1, arg2)\n",
    "\n",
    "print(f'1A: There is an error in the loop. The incorrect output returned for arg1 is {arg1}. Please fix the code and re-run.')"
   ]
  },
  {
   "cell_type": "code",
   "execution_count": 48,
   "id": "9b460523-68d7-4608-99cd-4f468b0ea517",
   "metadata": {},
   "outputs": [
    {
     "name": "stdout",
     "output_type": "stream",
     "text": [
      "1B: Now that I fixed the code, the correct output is [4, 5, 9]\n"
     ]
    }
   ],
   "source": [
    "\n",
    "def correct_add_function(arg1,arg2):\n",
    "\n",
    "   arg1_index=0\n",
    "   while arg1_index < len(arg1):\n",
    "      arg_2_sum = 0\n",
    "      for arg2_elements in arg2:\n",
    "         arg_2_sum = sum([arg1[arg1_index]]+[arg2[arg1_index]]) #modified arg_2_sum calculation to correct output \n",
    "      arg1[arg1_index]=arg_2_sum  \n",
    "      arg1_index+=1\n",
    "   return arg1\n",
    "\n",
    "arg1 = [1,2,3]\n",
    "arg2 = [3,3,6]\n",
    "\n",
    "correct_add_function(arg1, arg2)\n",
    "\n",
    "print(f'1B: Now that I fixed the code, the correct output is {arg1}')"
   ]
  }
 ],
 "metadata": {
  "kernelspec": {
   "display_name": "Python 3 (ipykernel)",
   "language": "python",
   "name": "python3"
  },
  "language_info": {
   "codemirror_mode": {
    "name": "ipython",
    "version": 3
   },
   "file_extension": ".py",
   "mimetype": "text/x-python",
   "name": "python",
   "nbconvert_exporter": "python",
   "pygments_lexer": "ipython3",
   "version": "3.12.5"
  }
 },
 "nbformat": 4,
 "nbformat_minor": 5
}
