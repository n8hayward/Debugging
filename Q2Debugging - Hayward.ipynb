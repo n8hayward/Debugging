{
 "cells": [
  {
   "cell_type": "code",
   "execution_count": 7,
   "id": "9615edb2-e55b-4da6-8685-3b1e565c6de2",
   "metadata": {},
   "outputs": [
    {
     "name": "stdout",
     "output_type": "stream",
     "text": [
      "2A: I have fixed the code once again - with the changes from 1 - and will use this version of the code going forward. \n",
      " The output for this code is [3, 4, 5]\n"
     ]
    }
   ],
   "source": [
    "# 2A - Update the numeric section of the function with your changes from 1 for both 2B and 2C\n",
    "\n",
    "def wrong_add_function(arg1,arg2):\n",
    "   \n",
    "   #numeric section\n",
    "    \n",
    "   if sum([type(i)==int for i in arg1])==len(arg1) and \\\n",
    "      sum([type(i)==int for i in arg2])==len(arg2):\n",
    "         arg1_index=0\n",
    "         while arg1_index < len(arg1):\n",
    "            arg_2_sum = 0\n",
    "            for arg2_elements in arg2:\n",
    "               arg_2_sum = sum([arg1[arg1_index]]+[arg2[arg1_index]]) #2A - Modified arg_2_sum calculation to correct output\n",
    "            arg1[arg1_index]=arg_2_sum  \n",
    "            arg1_index+=1\n",
    "         return arg1\n",
    "         \n",
    "   #string section\n",
    "   elif sum([type(i)==str for i in arg1])==len(arg1) and \\\n",
    "      sum([type(i)==str for i in arg2])==len(arg2):\n",
    "         arg1_index=0\n",
    "         while arg1_index < len(arg1):\n",
    "            arg_2_sum = ''\n",
    "            for arg2_elements in arg2:\n",
    "               arg_2_sum += arg2_elements\n",
    "            arg1[arg1_index]=arg1[arg1_index]+str(arg_2_sum)\n",
    "            arg1_index+=1\n",
    "         return arg1\n",
    "arg_1 = [1, 2, 3]\n",
    "arg_2 = [2, 2, 2]\n",
    "arg_str_1=['1','2','3']\n",
    "arg_str_2=['1','1', 1]\n",
    "\n",
    "wrong_add_function(arg_1,arg_2)\n",
    "print(f'2A: I have fixed the code once again - with the changes from 1 - and will use this version of the code going forward. \\n The output for this code is {arg_1}') "
   ]
  },
  {
   "cell_type": "code",
   "execution_count": 66,
   "id": "db933406-5635-4949-804c-efe5ce37a59f",
   "metadata": {},
   "outputs": [
    {
     "name": "stdout",
     "output_type": "stream",
     "text": [
      "TypeError: Your input argument arg_2 at element [0] is not of the expected type. Please change this and rerun.\n",
      "2B: The output for your input function is None. If the output says None see the above error\n"
     ]
    }
   ],
   "source": [
    "def exception_add_function(arg1,arg2):\n",
    "    try: \n",
    "   \n",
    "        #numeric section\n",
    "\n",
    "       if sum([type(i)==int for i in arg1])==len(arg1) and \\\n",
    "          sum([type(i)==int for i in arg2])==len(arg2):\n",
    "             arg1_index=0\n",
    "             while arg1_index < len(arg1):\n",
    "                arg_2_sum = 0\n",
    "                for arg2_elements in arg2:\n",
    "                   arg_2_sum = sum([arg1[arg1_index]]+[arg2[arg1_index]]) #2A - Modified arg_2_sum calculation to correct output\n",
    "                arg1[arg1_index]=arg_2_sum  \n",
    "                arg1_index+=1\n",
    "             return arg1\n",
    "         \n",
    "        #string section\n",
    "        \n",
    "       elif sum([type(i)==str for i in arg1])==len(arg1) and \\\n",
    "          sum([type(i)==str for i in arg2])==len(arg2):\n",
    "             arg1_index=0\n",
    "             while arg1_index < len(arg1):\n",
    "                arg_2_sum = ''\n",
    "                for arg2_elements in arg2:\n",
    "                   arg_2_sum += arg2_elements\n",
    "                arg1[arg1_index]=arg1[arg1_index]+str(arg_2_sum)\n",
    "                arg1_index+=1\n",
    "             return arg1\n",
    "           \n",
    "       else: #Create else statement to identify the element that is the cause of the error\n",
    "           for i in range(len(arg_1)):\n",
    "               if isinstance(arg_1[i], int) and not isinstance(arg_2[i], int): #checks if elements match as ints\n",
    "                   raise TypeError(f'Your input argument arg_2 at element [{i}] is not of the expected type. Please change this and rerun.')\n",
    "               elif isinstance(arg_1[i], str) and not isinstance(arg_2[i], str): #checks if elements match as strings\n",
    "                   raise TypeError(f'Your input argument arg_2 at element [{i}] is not of the expected type. Please change this and rerun.')\n",
    "               elif isinstance(arg_2[i], int) and not isinstance(arg_1[i], int): #checks if elements match as ints\n",
    "                   raise TypeError(f'Your input argument arg_1 at element [{i}] is not of the expected type. Please change this and rerun.')\n",
    "               elif isinstance(arg_2[i], str) and not isinstance(arg_1[i], str): #checks if elements match as strings\n",
    "                   raise TypeError(f'Your input argument arg_1 at element [{i}] is not of the expected type. Please change this and rerun.')\n",
    "           raise TypeError('Inputs are of mismatched types, please correct this and rerun')\n",
    "\n",
    "    except TypeError as e:\n",
    "        print('TypeError:', e)\n",
    "\n",
    "    except ValueError as e:\n",
    "        print('ValueError:', e)\n",
    "           \n",
    "arg_1 = [1, 2, 3]\n",
    "arg_2 = [\"5\",\"2\",5]\n",
    "\n",
    "output = exception_add_function(arg_1,arg_2)\n",
    "print(f'2B: The output for your input function is {output}. If the output says None see the above error')"
   ]
  },
  {
   "cell_type": "code",
   "execution_count": 70,
   "id": "fbf88c0e-975d-428a-8b0b-785e237519b3",
   "metadata": {},
   "outputs": [
    {
     "name": "stdout",
     "output_type": "stream",
     "text": [
      "TypeError: Your inputs are not of the same type, it will now be converted to type str accordingly and rerun\n",
      "2C: The revised output, converting the error input to type string is ['1525', '2525', '3525']\n"
     ]
    }
   ],
   "source": [
    "def correction_add_function(arg1,arg2):\n",
    "\n",
    "    try:\n",
    "       #numeric section\n",
    "    \n",
    "       if sum([type(i)==int for i in arg1])==len(arg1) and \\\n",
    "          sum([type(i)==int for i in arg2])==len(arg2):\n",
    "             arg1_index=0\n",
    "             while arg1_index < len(arg1):\n",
    "                arg_2_sum = 0\n",
    "                for arg2_elements in arg2:\n",
    "                   arg_2_sum = sum([arg1[arg1_index]]+[arg2[arg1_index]]) #2A - Modified arg_2_sum calculation to correct output\n",
    "                arg1[arg1_index]=arg_2_sum  \n",
    "                arg1_index+=1\n",
    "             return arg1\n",
    "         \n",
    "       #string section\n",
    "       elif sum([type(i)==str for i in arg1])==len(arg1) and \\\n",
    "          sum([type(i)==str for i in arg2])==len(arg2):\n",
    "             arg1_index=0\n",
    "             while arg1_index < len(arg1):\n",
    "                arg_2_sum = ''\n",
    "                for arg2_elements in arg2:\n",
    "                   arg_2_sum += arg2_elements\n",
    "                arg1[arg1_index]=arg1[arg1_index]+str(arg_2_sum)\n",
    "                arg1_index+=1\n",
    "             return arg1\n",
    "       else: #if the inputs are not of the same type, creates a TypeError message\n",
    "            raise TypeError('Your inputs are not of the same type, it will now be converted to type str accordingly and rerun')\n",
    "\n",
    "    except TypeError as e:\n",
    "        print('TypeError:', e)\n",
    "        if not all(isinstance(i,str) for i in arg1) or not all(isinstance(i, str) for i in arg2):\n",
    "            arg1 = [str(i) for i in arg1] #redefine arg1 as a list of strings\n",
    "            arg2 = [str(i) for i in arg2] #redefine arg2 as list of strings\n",
    "        return correction_add_function(arg1,arg2)\n",
    "\n",
    "arg1 = ['1','2','3']\n",
    "arg2 = ['5','2', 5]\n",
    "\n",
    "output = correction_add_function(arg1,arg2)\n",
    "print(f'2C: The revised output, converting the error input to type string is {output}')"
   ]
  }
 ],
 "metadata": {
  "kernelspec": {
   "display_name": "Python 3 (ipykernel)",
   "language": "python",
   "name": "python3"
  },
  "language_info": {
   "codemirror_mode": {
    "name": "ipython",
    "version": 3
   },
   "file_extension": ".py",
   "mimetype": "text/x-python",
   "name": "python",
   "nbconvert_exporter": "python",
   "pygments_lexer": "ipython3",
   "version": "3.12.5"
  }
 },
 "nbformat": 4,
 "nbformat_minor": 5
}
